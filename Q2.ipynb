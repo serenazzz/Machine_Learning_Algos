{
 "cells": [
  {
   "cell_type": "markdown",
   "metadata": {},
   "source": [
    "# Q2"
   ]
  },
  {
   "cell_type": "code",
   "execution_count": 302,
   "metadata": {},
   "outputs": [],
   "source": [
    "from scipy.io import loadmat\n",
    "import os\n",
    "import numpy as np\n",
    "import numpy.linalg as npla"
   ]
  },
  {
   "cell_type": "code",
   "execution_count": 300,
   "metadata": {},
   "outputs": [],
   "source": [
    "# Import wine data\n",
    "wine = loadmat('wine.mat')\n",
    "traindata = wine['data']\n",
    "trainlabels = wine['labels'].astype('float')\n",
    "testdata = wine['testdata']\n",
    "testlabels = wine['testlabels'].astype('float')\n",
    "\n",
    "# Store variable names\n",
    "variables = ['intercept',\n",
    "             'fixed acidity',\n",
    "             'volatile acidity',\n",
    "             'citric acid',\n",
    "             'residual sugar',\n",
    "             'chlorides',\n",
    "             'free sulfur dioxide',\n",
    "             'total sulfur dioxide',\n",
    "             'density',\n",
    "             'pH',\n",
    "             'sulphates',\n",
    "             'alcohol']\n",
    "\n",
    "# Store number of variables\n",
    "numVariables = traindata.shape[1]"
   ]
  },
  {
   "cell_type": "markdown",
   "metadata": {},
   "source": [
    "## Ordinary Least Squares"
   ]
  },
  {
   "cell_type": "code",
   "execution_count": 303,
   "metadata": {},
   "outputs": [],
   "source": [
    "OLS_betas = npla.inv(traindata.T @ traindata) @ traindata.T @ trainlabels\n",
    "OLS_yhat = testdata @ OLS_betas\n",
    "OLS_MSE = (OLS_yhat.T @ OLS_yhat - 2*(OLS_yhat.T @ testlabels) + testlabels.T @ testlabels)/len(OLS_yhat)"
   ]
  },
  {
   "cell_type": "code",
   "execution_count": 336,
   "metadata": {},
   "outputs": [
    {
     "name": "stdout",
     "output_type": "stream",
     "text": [
      "Test squared loss risk is 0.53978.\n"
     ]
    }
   ],
   "source": [
    "print(\"Test squared loss risk is {:.5f}.\".format(OLS_MSE.item()))"
   ]
  },
  {
   "cell_type": "markdown",
   "metadata": {},
   "source": [
    "## Sparse Linear Predictor"
   ]
  },
  {
   "cell_type": "code",
   "execution_count": 305,
   "metadata": {},
   "outputs": [],
   "source": [
    "# Run sparse linear predictor\n",
    "SLP_minMSE = 1000000000\n",
    "SLP_minMSEIndex = [0,1,2,3]\n",
    "SLP_minMSEBetas = []\n",
    "\n",
    "for i in range(1,numVariables):\n",
    "    for j in range(i+1,numVariables):\n",
    "        for k in range(j+1,numVariables):\n",
    "\n",
    "            # Define training data and betas\n",
    "            x = traindata[:,[0,i,j,k]]\n",
    "            y = trainlabels\n",
    "            SLP_betas = npla.inv(x.T @ x) @ x.T @ y\n",
    "\n",
    "            # Define test data and predictions\n",
    "            SLP_yhat = x @ SLP_betas\n",
    "\n",
    "            # Calculate MSE\n",
    "            tmpMSE = (SLP_yhat.T @ SLP_yhat - 2*(SLP_yhat.T @ y) + y.T @ y)/len(ypred)\n",
    "\n",
    "            # Store argminimizer of MSE\n",
    "            if tmpMSE < SLP_minMSE:\n",
    "                SLP_minMSE=tmpMSE\n",
    "                SLP_minMSEIndex=[0,i,j,k]\n",
    "                SLP_minMSEBetas=SLP_betas\n",
    "                \n",
    "# List of variables with lowest MSE\n",
    "SLP_minMSEVariables=[variables[v] for v in SLP_minMSEIndex]"
   ]
  },
  {
   "cell_type": "code",
   "execution_count": 334,
   "metadata": {},
   "outputs": [
    {
     "name": "stdout",
     "output_type": "stream",
     "text": [
      "The sparse linear predictor results in ['volatile acidity', 'sulphates', 'alcohol'] with a MSE of 0.55877.\n"
     ]
    }
   ],
   "source": [
    "print(\"The sparse linear predictor results in {} with a MSE of {:.5f}.\".format(SLP_minMSEVariables[1:],SLP_minMSE.item()))"
   ]
  },
  {
   "cell_type": "code",
   "execution_count": 306,
   "metadata": {},
   "outputs": [],
   "source": [
    "SLP_yhat = testdata[:,SLP_minMSEIndex] @ SLP_betas\n",
    "SLP_MSE = (SLP_yhat.T @ SLP_yhat - 2*(SLP_yhat.T @ testlabels) + testlabels.T @ testlabels)/len(SLP_yhat)"
   ]
  },
  {
   "cell_type": "code",
   "execution_count": 337,
   "metadata": {},
   "outputs": [
    {
     "name": "stdout",
     "output_type": "stream",
     "text": [
      "Test squared loss risk is 0.5942.\n"
     ]
    }
   ],
   "source": [
    "print(\"Test squared loss risk is {:.4f}.\".format(SLP_MSE.item()))"
   ]
  },
  {
   "cell_type": "markdown",
   "metadata": {},
   "source": [
    "## Highest Correlated Variables"
   ]
  },
  {
   "cell_type": "code",
   "execution_count": 332,
   "metadata": {},
   "outputs": [],
   "source": [
    "# Closest Covariance\n",
    "closestCov = dict()\n",
    "covMatrix = np.cov(testdata.T)\n",
    "\n",
    "for i in range(1,numVariables):\n",
    "    # Finds the indexes with the top 3 absolute covariance\n",
    "    covargmax = np.argsort([abs(i) for i in covMatrix[i]])[-3:][::-1]\n",
    "    \n",
    "    # Add each variable to a dictionary - Add a dictionary of the top two covarying variables and their covariance\n",
    "    closestCov[variables[i]]={variables[covargmax[1]]:covMatrix[i][covargmax[1]],\n",
    "                              variables[covargmax[2]]:covMatrix[i][covargmax[2]]}\n",
    "\n",
    "\n",
    "    "
   ]
  },
  {
   "cell_type": "markdown",
   "metadata": {},
   "source": [
    "## Solutions\n",
    "\n",
    "#### a)"
   ]
  },
  {
   "cell_type": "code",
   "execution_count": 327,
   "metadata": {},
   "outputs": [
    {
     "name": "stdout",
     "output_type": "stream",
     "text": [
      "The risks for the ordinary least squares estimator is 0.5398.\n",
      "The risks for the sparse linear predictor is 0.5942.\n"
     ]
    }
   ],
   "source": [
    "print(\"The risks for the ordinary least squares estimator is {:.4f}.\".format(OLS_MSE.item()))\n",
    "print(\"The risks for the sparse linear predictor is {:.4f}.\".format(SLP_MSE.item()))"
   ]
  },
  {
   "cell_type": "markdown",
   "metadata": {},
   "source": [
    "#### b)"
   ]
  },
  {
   "cell_type": "code",
   "execution_count": 340,
   "metadata": {},
   "outputs": [
    {
     "name": "stdout",
     "output_type": "stream",
     "text": [
      "Index   Variable             Coefficient\n",
      "----------------------------------------\n",
      " 0       intercept            5.82610\n",
      " 2       volatile acidity     -0.03025\n",
      " 10      sulphates            0.05528\n",
      " 11      alcohol              0.38749\n"
     ]
    }
   ],
   "source": [
    "print(\"{:<7} {:<20} {:<10}\".format('Index','Variable','Coefficient'))\n",
    "print(\"-\"*40)\n",
    "\n",
    "for i in range(4):\n",
    "    print(\" {:<7} {:<20} {:.5f}\".format(SLP_minMSEIndex[i], SLP_minMSEVariables[i],SLP_betas[i].item()))\n"
   ]
  },
  {
   "cell_type": "markdown",
   "metadata": {},
   "source": [
    "#### c)"
   ]
  },
  {
   "cell_type": "code",
   "execution_count": 333,
   "metadata": {},
   "outputs": [
    {
     "name": "stdout",
     "output_type": "stream",
     "text": [
      "Variable                  Rank     Most Correlated With      Covariance\n",
      "-----------------------------------------------------------------------\n",
      " fixed acidity             1        density                   0.46083\n",
      " fixed acidity             2        citric acid               0.35730\n",
      "-----------------------------------------------------------------------\n",
      " volatile acidity          1        total sulfur dioxide      -0.42338\n",
      " volatile acidity          2        citric acid               -0.40332\n",
      "-----------------------------------------------------------------------\n",
      " citric acid               1        volatile acidity          -0.40332\n",
      " citric acid               2        pH                        -0.36184\n",
      "-----------------------------------------------------------------------\n",
      " residual sugar            1        density                   0.60091\n",
      " residual sugar            2        total sulfur dioxide      0.49291\n",
      "-----------------------------------------------------------------------\n",
      " chlorides                 1        sulphates                 0.42961\n",
      " chlorides                 2        volatile acidity          0.37536\n",
      "-----------------------------------------------------------------------\n",
      " free sulfur dioxide       1        total sulfur dioxide      0.70738\n",
      " free sulfur dioxide       2        residual sugar            0.39816\n",
      "-----------------------------------------------------------------------\n",
      " total sulfur dioxide      1        free sulfur dioxide       0.70738\n",
      " total sulfur dioxide      2        residual sugar            0.49291\n",
      "-----------------------------------------------------------------------\n",
      " density                   1        alcohol                   -0.70261\n",
      " density                   2        residual sugar            0.60091\n",
      "-----------------------------------------------------------------------\n",
      " pH                        1        citric acid               -0.36184\n",
      " pH                        2        residual sugar            -0.26875\n",
      "-----------------------------------------------------------------------\n",
      " sulphates                 1        chlorides                 0.42961\n",
      " sulphates                 2        fixed acidity             0.30504\n",
      "-----------------------------------------------------------------------\n",
      " alcohol                   1        density                   -0.70261\n",
      " alcohol                   2        residual sugar            -0.35946\n",
      "-----------------------------------------------------------------------\n",
      "\n",
      "  Note: the affine expansion variable is not included, because it has a\n",
      "\tcovariance of 0 with all variables.\n"
     ]
    }
   ],
   "source": [
    "print(\"{:<25} {:<8} {:<25} {:<10}\".format('Variable','Rank','Most Correlated With','Covariance'))\n",
    "print(\"-\"*71)\n",
    "\n",
    "for i in closestCov.keys():\n",
    "    rank=0\n",
    "    for j in closestCov[i].keys():\n",
    "        rank+=1\n",
    "        print(\" {:<25} {:<8} {:<25} {:.5f}\".format(i, rank, j, closestCov[i][j]))\n",
    "    print(\"-\"*71)\n",
    "    \n",
    "print(\"\\n  Note: the affine expansion variable is not included, because it has a\\n\\tcovariance of 0 with all variables.\")"
   ]
  },
  {
   "cell_type": "code",
   "execution_count": null,
   "metadata": {},
   "outputs": [],
   "source": []
  }
 ],
 "metadata": {
  "kernelspec": {
   "display_name": "Python 3",
   "language": "python",
   "name": "python3"
  },
  "language_info": {
   "codemirror_mode": {
    "name": "ipython",
    "version": 3
   },
   "file_extension": ".py",
   "mimetype": "text/x-python",
   "name": "python",
   "nbconvert_exporter": "python",
   "pygments_lexer": "ipython3",
   "version": "3.6.0"
  }
 },
 "nbformat": 4,
 "nbformat_minor": 2
}
