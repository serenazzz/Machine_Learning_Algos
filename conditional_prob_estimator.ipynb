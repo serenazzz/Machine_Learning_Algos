{
 "cells": [
  {
   "cell_type": "code",
   "execution_count": 1,
   "metadata": {},
   "outputs": [
    {
     "name": "stderr",
     "output_type": "stream",
     "text": [
      "/Users/nihaozheng/anaconda/lib/python3.6/site-packages/sklearn/cross_validation.py:41: DeprecationWarning: This module was deprecated in version 0.18 in favor of the model_selection module into which all the refactored classes and functions are moved. Also note that the interface of the new CV iterators are different from that of this module. This module will be removed in 0.20.\n",
      "  \"This module will be removed in 0.20.\", DeprecationWarning)\n"
     ]
    }
   ],
   "source": [
    "# load packages\n",
    "from scipy.io import loadmat\n",
    "import matplotlib.pyplot as plt\n",
    "import pandas as pd\n",
    "import numpy as np\n",
    "from sklearn.linear_model import LogisticRegression\n",
    "from sklearn.ensemble import RandomForestClassifier\n",
    "from sklearn.ensemble import RandomForestRegressor\n",
    "from sklearn.ensemble import AdaBoostClassifier\n",
    "from sklearn.metrics import mean_squared_error \n",
    "from sklearn.metrics import zero_one_loss \n",
    "from sklearn.model_selection import RandomizedSearchCV\n",
    "from sklearn.preprocessing import StandardScaler\n",
    "from sklearn.feature_selection import SelectFromModel\n",
    "from sklearn.svm import SVC\n",
    "from sklearn.linear_model import Lasso\n",
    "from sklearn.decomposition import PCA\n",
    "import xgboost as xgb\n",
    "import matplotlib.pyplot as plt"
   ]
  },
  {
   "cell_type": "code",
   "execution_count": 2,
   "metadata": {
    "collapsed": true
   },
   "outputs": [],
   "source": [
    "ocr = loadmat('hw4data.mat')"
   ]
  },
  {
   "cell_type": "code",
   "execution_count": 3,
   "metadata": {
    "collapsed": true
   },
   "outputs": [],
   "source": [
    "data = ocr['data']\n",
    "label = ocr['labels']"
   ]
  },
  {
   "cell_type": "code",
   "execution_count": 4,
   "metadata": {
    "collapsed": true
   },
   "outputs": [],
   "source": [
    "# split train/test \n",
    "n = data.shape[0]\n",
    "X_train = data[:int(0.75*n),]\n",
    "y_train = label[:int(0.75*n),].reshape(-1)\n",
    "X_test = data[int(0.75*n):,]\n",
    "y_test = label[int(0.75*n):,].reshape(-1)"
   ]
  },
  {
   "cell_type": "code",
   "execution_count": 5,
   "metadata": {
    "collapsed": true
   },
   "outputs": [],
   "source": [
    "#standardization\n",
    "scalar = StandardScaler()\n",
    "scalar.fit(X_train)\n",
    "X_train = scalar.transform(X_train)\n",
    "scalar.fit(X_test)\n",
    "X_test = scalar.transform(X_test)"
   ]
  },
  {
   "cell_type": "code",
   "execution_count": 6,
   "metadata": {},
   "outputs": [
    {
     "name": "stdout",
     "output_type": "stream",
     "text": [
      "The training error is 0.5077015753421515\n",
      "The testing error is 0.5066024081574544\n"
     ]
    }
   ],
   "source": [
    "# Lasso\n",
    "lasso = Lasso()\n",
    "lasso.fit(X_train,y_train)\n",
    "pred=lasso.predict(X_train)\n",
    "print(\"The training error is {}\".format(mean_squared_error(y_train,pred)))\n",
    "pred=lasso.predict(X_test)\n",
    "print(\"The testing error is {}\".format(mean_squared_error(y_test,pred)))\n",
    "\n",
    "\n"
   ]
  },
  {
   "cell_type": "code",
   "execution_count": 7,
   "metadata": {},
   "outputs": [
    {
     "name": "stdout",
     "output_type": "stream",
     "text": [
      "The training error is0.08531778971354166\n",
      "The testing error is0.4704254150390625\n"
     ]
    }
   ],
   "source": [
    "# random forest with default parameters\n",
    "forest_reg = RandomForestRegressor(n_jobs=-1)\n",
    "forest_reg.fit(X_train,y_train)\n",
    "pred=forest_reg.predict(X_train)\n",
    "print(\"The training error is{}\".format(mean_squared_error(y_train,pred)))\n",
    "pred=forest_reg.predict(X_test)\n",
    "print(\"The testing error is{}\".format(mean_squared_error(y_test,pred)))\n",
    "\n",
    "\n",
    "\n"
   ]
  },
  {
   "cell_type": "code",
   "execution_count": 8,
   "metadata": {},
   "outputs": [
    {
     "name": "stdout",
     "output_type": "stream",
     "text": [
      "The training error is0.19355541555357858\n",
      "The testing error is0.43057518095108716\n"
     ]
    }
   ],
   "source": [
    "# manually set parameters in random forest\n",
    "forest_reg = RandomForestRegressor(max_depth=20,n_estimators=20,n_jobs=-1)\n",
    "forest_reg.fit(X_train,y_train)\n",
    "pred=forest_reg.predict(X_train)\n",
    "print(\"The training error is{}\".format(mean_squared_error(y_train,pred)))\n",
    "pred=forest_reg.predict(X_test)\n",
    "print(\"The testing error is{}\".format(mean_squared_error(y_test,pred)))\n",
    "\n",
    "\n",
    "\n",
    "\n"
   ]
  },
  {
   "cell_type": "code",
   "execution_count": 9,
   "metadata": {},
   "outputs": [
    {
     "data": {
      "image/png": "[encoded data removed]",
      "text/plain": [
       "<matplotlib.figure.Figure at 0x1142bdb38>"
      ]
     },
     "metadata": {},
     "output_type": "display_data"
    }
   ],
   "source": [
    "# plot feature importance \n",
    "temp ={'feature':range(X_test.shape[1]),'importance':list(forest_reg.feature_importances_)}\n",
    "temp = pd.DataFrame(temp)\n",
    "temp=temp.sort_values(by='importance',ascending=False)\n",
    "x_pos = np.arange(10)\n",
    "plt.barh(x_pos,temp['importance'][:10])\n",
    "plt.yticks(x_pos, temp['feature'][:10])\n",
    "plt.show()"
   ]
  },
  {
   "cell_type": "code",
   "execution_count": 10,
   "metadata": {},
   "outputs": [
    {
     "name": "stdout",
     "output_type": "stream",
     "text": [
      "The training error is0.17766991808943614\n",
      "The testing error is0.4282914074440784\n"
     ]
    }
   ],
   "source": [
    "# use top 20 features in random forest\n",
    "feature = temp['feature'][:20]\n",
    "forest_reg.fit(pd.DataFrame(X_train)[feature],y_train)\n",
    "pred=forest_reg.predict(pd.DataFrame(X_train)[feature])\n",
    "print(\"The training error is{}\".format(mean_squared_error(y_train,pred)))\n",
    "pred=forest_reg.predict(pd.DataFrame(X_test)[feature])\n",
    "print(\"The testing error is{}\".format(mean_squared_error(y_test,pred)))\n",
    "\n",
    "\n"
   ]
  },
  {
   "cell_type": "markdown",
   "metadata": {},
   "source": [
    "# part(c)"
   ]
  },
  {
   "cell_type": "code",
   "execution_count": 12,
   "metadata": {
    "collapsed": true
   },
   "outputs": [],
   "source": [
    "quiz = ocr['quiz']"
   ]
  },
  {
   "cell_type": "code",
   "execution_count": 33,
   "metadata": {
    "collapsed": true
   },
   "outputs": [],
   "source": [
    "pred=forest_reg.predict(pd.DataFrame(quiz)[feature])"
   ]
  },
  {
   "cell_type": "code",
   "execution_count": 38,
   "metadata": {},
   "outputs": [],
   "source": [
    "eta = (1+pred)/2"
   ]
  },
  {
   "cell_type": "code",
   "execution_count": 46,
   "metadata": {},
   "outputs": [
    {
     "name": "stdout",
     "output_type": "stream",
     "text": [
      "All eta are between 0 and 1: True\n"
     ]
    }
   ],
   "source": [
    "print(\"All eta are between 0 and 1: {}\".format(sum(eta > 1)==0 and sum(eta < 0)==0))"
   ]
  },
  {
   "cell_type": "code",
   "execution_count": 48,
   "metadata": {},
   "outputs": [
    {
     "data": {
      "text/plain": [
       "0.14924339851085194"
      ]
     },
     "execution_count": 48,
     "metadata": {},
     "output_type": "execute_result"
    }
   ],
   "source": [
    "p_Q = np.mean(eta)\n",
    "p_Q"
   ]
  },
  {
   "cell_type": "code",
   "execution_count": null,
   "metadata": {
    "collapsed": true
   },
   "outputs": [],
   "source": []
  }
 ],
 "metadata": {
  "kernelspec": {
   "display_name": "Python 3",
   "language": "python",
   "name": "python3"
  },
  "language_info": {
   "codemirror_mode": {
    "name": "ipython",
    "version": 3
   },
   "file_extension": ".py",
   "mimetype": "text/x-python",
   "name": "python",
   "nbconvert_exporter": "python",
   "pygments_lexer": "ipython3",
   "version": "3.6.1"
  }
 },
 "nbformat": 4,
 "nbformat_minor": 2
}
