{
 "cells": [
  {
   "cell_type": "code",
   "execution_count": 1,
   "metadata": {
    "ExecuteTime": {
     "end_time": "2018-04-18T17:30:31.278343Z",
     "start_time": "2018-04-18T17:30:30.373287Z"
    },
    "collapsed": true
   },
   "outputs": [],
   "source": [
    "import numpy as np\n",
    "from scipy.io import loadmat\n",
    "df= loadmat('hw6data.mat')\n",
    "import matplotlib.pyplot as plt\n",
    "import warnings\n",
    "warnings.filterwarnings('ignore')\n"
   ]
  },
  {
   "cell_type": "code",
   "execution_count": 2,
   "metadata": {
    "ExecuteTime": {
     "end_time": "2018-04-18T17:30:31.283457Z",
     "start_time": "2018-04-18T17:30:31.279821Z"
    }
   },
   "outputs": [
    {
     "data": {
      "text/plain": [
       "dict_keys(['__header__', '__version__', '__globals__', 'L', 'seq1_h', 'seq1_x', 'seq2_h', 'seq2_x'])"
      ]
     },
     "execution_count": 2,
     "metadata": {},
     "output_type": "execute_result"
    }
   ],
   "source": [
    "df.keys()"
   ]
  },
  {
   "cell_type": "markdown",
   "metadata": {
    "ExecuteTime": {
     "end_time": "2018-04-14T20:11:06.954493Z",
     "start_time": "2018-04-14T20:11:06.948294Z"
    }
   },
   "source": [
    "### Qb"
   ]
  },
  {
   "cell_type": "code",
   "execution_count": 3,
   "metadata": {
    "ExecuteTime": {
     "end_time": "2018-04-18T17:30:31.286870Z",
     "start_time": "2018-04-18T17:30:31.284623Z"
    },
    "collapsed": true
   },
   "outputs": [],
   "source": [
    "h1=df[\"seq1_h\"].squeeze()\n",
    "x1=df[\"seq1_x\"]"
   ]
  },
  {
   "cell_type": "code",
   "execution_count": 4,
   "metadata": {
    "ExecuteTime": {
     "end_time": "2018-04-18T17:30:31.292098Z",
     "start_time": "2018-04-18T17:30:31.288141Z"
    },
    "collapsed": true
   },
   "outputs": [],
   "source": [
    "def calA(h,i,j):\n",
    "    num=0\n",
    "    for t in range(h.shape[0]-1):\n",
    "        if (h[t]==i) and (h[t+1])==j:\n",
    "            num+=1\n",
    "    denom= np.where(h[:-1]==i,1,0).sum()\n",
    "    return num/denom"
   ]
  },
  {
   "cell_type": "code",
   "execution_count": 5,
   "metadata": {
    "ExecuteTime": {
     "end_time": "2018-04-18T17:30:31.522395Z",
     "start_time": "2018-04-18T17:30:31.447530Z"
    },
    "collapsed": true
   },
   "outputs": [],
   "source": [
    "A11 = calA(h1,1,1)\n",
    "A12 = calA(h1,1,2)\n",
    "A21 = calA(h1,2,1)\n",
    "A22 = calA(h1,2,2)"
   ]
  },
  {
   "cell_type": "code",
   "execution_count": 6,
   "metadata": {
    "ExecuteTime": {
     "end_time": "2018-04-18T17:30:31.651390Z",
     "start_time": "2018-04-18T17:30:31.647903Z"
    }
   },
   "outputs": [
    {
     "name": "stdout",
     "output_type": "stream",
     "text": [
      "0.895306028532 0.104693971468 0.101497876146 0.898502123854\n"
     ]
    }
   ],
   "source": [
    "print(A11,A12,A21,A22)"
   ]
  },
  {
   "cell_type": "code",
   "execution_count": 7,
   "metadata": {
    "ExecuteTime": {
     "end_time": "2018-04-18T17:30:31.860648Z",
     "start_time": "2018-04-18T17:30:31.856283Z"
    },
    "collapsed": true
   },
   "outputs": [],
   "source": [
    "mu1 = np.average(x1[np.where(h1==1)],axis=0)\n",
    "mu2 = np.average( x1[np.where(h1==2)],axis=0)"
   ]
  },
  {
   "cell_type": "markdown",
   "metadata": {},
   "source": [
    "### Qc"
   ]
  },
  {
   "cell_type": "code",
   "execution_count": 8,
   "metadata": {
    "ExecuteTime": {
     "end_time": "2018-04-18T17:30:32.283606Z",
     "start_time": "2018-04-18T17:30:32.281216Z"
    },
    "collapsed": true
   },
   "outputs": [],
   "source": [
    "h2=df[\"seq2_h\"].squeeze()\n",
    "x2=df[\"seq2_x\"]"
   ]
  },
  {
   "cell_type": "code",
   "execution_count": 9,
   "metadata": {
    "ExecuteTime": {
     "end_time": "2018-04-18T17:30:32.504171Z",
     "start_time": "2018-04-18T17:30:32.500518Z"
    }
   },
   "outputs": [
    {
     "data": {
      "text/plain": [
       "array([ 3.57880606,  0.41957754,  0.65787761,  0.01398859, -0.3751302 ,\n",
       "       -1.03407044,  0.1038199 , -0.2005791 ])"
      ]
     },
     "execution_count": 9,
     "metadata": {},
     "output_type": "execute_result"
    }
   ],
   "source": [
    "mu1"
   ]
  },
  {
   "cell_type": "code",
   "execution_count": 10,
   "metadata": {
    "ExecuteTime": {
     "end_time": "2018-04-18T17:30:32.746026Z",
     "start_time": "2018-04-18T17:30:32.741626Z"
    },
    "collapsed": true
   },
   "outputs": [],
   "source": [
    "def xmessage(mu,x):\n",
    "    first = 1/np.power((2*np.pi),4)\n",
    "    second = np.exp(-(1/2)*np.linalg.norm(x-mu))\n",
    "    return first * second\n",
    "    \n",
    "def x_cond(x):\n",
    "    return np.array([xmessage(mu1,x),xmessage(mu2,x)])"
   ]
  },
  {
   "cell_type": "code",
   "execution_count": 11,
   "metadata": {
    "ExecuteTime": {
     "end_time": "2018-04-18T17:30:33.051814Z",
     "start_time": "2018-04-18T17:30:32.981317Z"
    },
    "collapsed": true
   },
   "outputs": [],
   "source": [
    "h_cond = np.array([[A11,A12],[A21,A22]])\n",
    "x1_cond = x_cond(x2[0])\n",
    "pi = np.array([A21,A22])"
   ]
  },
  {
   "cell_type": "code",
   "execution_count": 12,
   "metadata": {
    "ExecuteTime": {
     "end_time": "2018-04-18T17:30:33.202273Z",
     "start_time": "2018-04-18T17:30:33.197977Z"
    },
    "collapsed": true
   },
   "outputs": [],
   "source": [
    "ph1_x1_num = np.multiply(pi,x1_cond)\n",
    "ph1_x1 = ph1_x1_num/ph1_x1_num.sum()\n",
    "def choose_h(p):\n",
    "    if p[0]>=p[1]:\n",
    "        return 1\n",
    "    else:\n",
    "        return 2\n",
    "pred_h1 =  choose_h(ph1_x1)\n",
    "pred = [pred_h1]"
   ]
  },
  {
   "cell_type": "code",
   "execution_count": 13,
   "metadata": {
    "ExecuteTime": {
     "end_time": "2018-04-18T17:30:33.420653Z",
     "start_time": "2018-04-18T17:30:33.417633Z"
    },
    "collapsed": true
   },
   "outputs": [],
   "source": [
    "def numerator(prev,x):\n",
    "    first = prev.dot(h_cond)\n",
    "    return np.multiply(first, x_cond(x))\n",
    "\n",
    "def denom(num):\n",
    "    return num.sum()"
   ]
  },
  {
   "cell_type": "code",
   "execution_count": 14,
   "metadata": {
    "ExecuteTime": {
     "end_time": "2018-04-18T17:30:33.729546Z",
     "start_time": "2018-04-18T17:30:33.647354Z"
    },
    "collapsed": true
   },
   "outputs": [],
   "source": [
    "prev = ph1_x1\n",
    "for i in range(1,x2.shape[0]):\n",
    "    num = numerator(prev,x2[i])\n",
    "    denomen = denom(num)\n",
    "    hi=choose_h(num/denomen)\n",
    "    pred.append(hi)\n",
    "    prev = num/denomen"
   ]
  },
  {
   "cell_type": "code",
   "execution_count": 27,
   "metadata": {
    "ExecuteTime": {
     "end_time": "2018-04-18T17:47:07.555313Z",
     "start_time": "2018-04-18T17:47:07.551225Z"
    }
   },
   "outputs": [
    {
     "data": {
      "text/plain": [
       "284"
      ]
     },
     "execution_count": 27,
     "metadata": {},
     "output_type": "execute_result"
    }
   ],
   "source": [
    "np.where(pred!=h2,1,0).sum()"
   ]
  },
  {
   "cell_type": "markdown",
   "metadata": {
    "collapsed": true
   },
   "source": [
    "### Q4"
   ]
  },
  {
   "cell_type": "code",
   "execution_count": 24,
   "metadata": {
    "ExecuteTime": {
     "end_time": "2018-04-18T17:46:57.526979Z",
     "start_time": "2018-04-18T17:46:57.523692Z"
    }
   },
   "outputs": [],
   "source": [
    "#class priors\n",
    "c1 = np.where(h1==1,1,0).sum()/h1.shape[0]\n",
    "c2 = np.where(h1==2,1,0).sum()/h1.shape[0]"
   ]
  },
  {
   "cell_type": "code",
   "execution_count": 25,
   "metadata": {
    "ExecuteTime": {
     "end_time": "2018-04-18T17:46:57.843076Z",
     "start_time": "2018-04-18T17:46:57.779774Z"
    }
   },
   "outputs": [],
   "source": [
    "pred_gen=[]\n",
    "for i in range(0,x2.shape[0]):\n",
    "    check1 = c1*(1/np.power((2*np.pi),4)*np.exp(-(1/2)*np.linalg.norm(x2[i]-mu1)))\n",
    "    check2 = c2*(1/np.power((2*np.pi),4)*np.exp(-(1/2)*np.linalg.norm(x2[i]-mu2)))\n",
    "    if check1 >= check2:\n",
    "        pred_gen.append(1)\n",
    "    else:\n",
    "        pred_gen.append(2)"
   ]
  },
  {
   "cell_type": "code",
   "execution_count": 26,
   "metadata": {
    "ExecuteTime": {
     "end_time": "2018-04-18T17:46:58.049394Z",
     "start_time": "2018-04-18T17:46:58.045479Z"
    }
   },
   "outputs": [
    {
     "data": {
      "text/plain": [
       "292"
      ]
     },
     "execution_count": 26,
     "metadata": {},
     "output_type": "execute_result"
    }
   ],
   "source": [
    "np.where(pred_gen!=h2,1,0).sum()"
   ]
  },
  {
   "cell_type": "code",
   "execution_count": null,
   "metadata": {
    "collapsed": true
   },
   "outputs": [],
   "source": []
  }
 ],
 "metadata": {
  "kernelspec": {
   "display_name": "Python 3",
   "language": "python",
   "name": "python3"
  },
  "language_info": {
   "codemirror_mode": {
    "name": "ipython",
    "version": 3
   },
   "file_extension": ".py",
   "mimetype": "text/x-python",
   "name": "python",
   "nbconvert_exporter": "python",
   "pygments_lexer": "ipython3",
   "version": "3.6.3"
  }
 },
 "nbformat": 4,
 "nbformat_minor": 2
}
