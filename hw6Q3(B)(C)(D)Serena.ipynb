{
 "cells": [
  {
   "cell_type": "code",
   "execution_count": 1,
   "metadata": {
    "ExecuteTime": {
     "end_time": "2018-04-19T02:47:58.730359Z",
     "start_time": "2018-04-19T02:47:57.829223Z"
    },
    "collapsed": true
   },
   "outputs": [],
   "source": [
    "import numpy as np\n",
    "from scipy.io import loadmat\n",
    "df= loadmat('hw6data.mat')\n",
    "import matplotlib.pyplot as plt\n",
    "import warnings\n",
    "warnings.filterwarnings('ignore')\n"
   ]
  },
  {
   "cell_type": "code",
   "execution_count": 2,
   "metadata": {
    "ExecuteTime": {
     "end_time": "2018-04-19T02:47:59.079422Z",
     "start_time": "2018-04-19T02:47:59.075503Z"
    }
   },
   "outputs": [
    {
     "data": {
      "text/plain": [
       "dict_keys(['__header__', '__version__', '__globals__', 'L', 'seq1_h', 'seq1_x', 'seq2_h', 'seq2_x'])"
      ]
     },
     "execution_count": 2,
     "metadata": {},
     "output_type": "execute_result"
    }
   ],
   "source": [
    "df.keys()"
   ]
  },
  {
   "cell_type": "markdown",
   "metadata": {
    "ExecuteTime": {
     "end_time": "2018-04-14T20:11:06.954493Z",
     "start_time": "2018-04-14T20:11:06.948294Z"
    }
   },
   "source": [
    "### Qb"
   ]
  },
  {
   "cell_type": "code",
   "execution_count": 3,
   "metadata": {
    "ExecuteTime": {
     "end_time": "2018-04-19T02:47:59.809394Z",
     "start_time": "2018-04-19T02:47:59.806553Z"
    },
    "collapsed": true
   },
   "outputs": [],
   "source": [
    "h1=df[\"seq1_h\"].squeeze()\n",
    "x1=df[\"seq1_x\"]"
   ]
  },
  {
   "cell_type": "code",
   "execution_count": 4,
   "metadata": {
    "ExecuteTime": {
     "end_time": "2018-04-19T02:48:00.050473Z",
     "start_time": "2018-04-19T02:48:00.045910Z"
    },
    "collapsed": true
   },
   "outputs": [],
   "source": [
    "def calA(h,i,j):\n",
    "    num=0\n",
    "    for t in range(h.shape[0]-1):\n",
    "        if (h[t]==i) and (h[t+1])==j:\n",
    "            num+=1\n",
    "    denom= np.where(h[:-1]==i,1,0).sum()\n",
    "    print(num)\n",
    "    return num/denom"
   ]
  },
  {
   "cell_type": "code",
   "execution_count": 5,
   "metadata": {
    "ExecuteTime": {
     "end_time": "2018-04-19T02:48:00.370725Z",
     "start_time": "2018-04-19T02:48:00.289856Z"
    }
   },
   "outputs": [
    {
     "name": "stdout",
     "output_type": "stream",
     "text": [
      "3891\n",
      "455\n",
      "454\n",
      "4019\n"
     ]
    }
   ],
   "source": [
    "A11 = calA(h1,1,1)\n",
    "A12 = calA(h1,1,2)\n",
    "A21 = calA(h1,2,1)\n",
    "A22 = calA(h1,2,2)"
   ]
  },
  {
   "cell_type": "code",
   "execution_count": 6,
   "metadata": {
    "ExecuteTime": {
     "end_time": "2018-04-19T02:48:00.532848Z",
     "start_time": "2018-04-19T02:48:00.528574Z"
    }
   },
   "outputs": [
    {
     "name": "stdout",
     "output_type": "stream",
     "text": [
      "0.895306028532 0.104693971468 0.101497876146 0.898502123854\n"
     ]
    }
   ],
   "source": [
    "print(A11,A12,A21,A22)"
   ]
  },
  {
   "cell_type": "code",
   "execution_count": 7,
   "metadata": {
    "ExecuteTime": {
     "end_time": "2018-04-19T02:48:00.763311Z",
     "start_time": "2018-04-19T02:48:00.759352Z"
    },
    "collapsed": true
   },
   "outputs": [],
   "source": [
    "mu1 = np.average(x1[np.where(h1==1)],axis=0)\n",
    "mu2 = np.average( x1[np.where(h1==2)],axis=0)"
   ]
  },
  {
   "cell_type": "markdown",
   "metadata": {},
   "source": [
    "### Qc"
   ]
  },
  {
   "cell_type": "code",
   "execution_count": 8,
   "metadata": {
    "ExecuteTime": {
     "end_time": "2018-04-19T02:48:01.283188Z",
     "start_time": "2018-04-19T02:48:01.279487Z"
    },
    "collapsed": true
   },
   "outputs": [],
   "source": [
    "h2=df[\"seq2_h\"].squeeze()\n",
    "x2=df[\"seq2_x\"]"
   ]
  },
  {
   "cell_type": "code",
   "execution_count": 9,
   "metadata": {
    "ExecuteTime": {
     "end_time": "2018-04-19T02:48:01.526717Z",
     "start_time": "2018-04-19T02:48:01.522934Z"
    },
    "scrolled": true
   },
   "outputs": [
    {
     "data": {
      "text/plain": [
       "array([ 3.57880606,  0.41957754,  0.65787761,  0.01398859, -0.3751302 ,\n",
       "       -1.03407044,  0.1038199 , -0.2005791 ])"
      ]
     },
     "execution_count": 9,
     "metadata": {},
     "output_type": "execute_result"
    }
   ],
   "source": [
    "mu1"
   ]
  },
  {
   "cell_type": "code",
   "execution_count": 26,
   "metadata": {
    "ExecuteTime": {
     "end_time": "2018-04-19T02:50:08.143911Z",
     "start_time": "2018-04-19T02:50:08.139372Z"
    },
    "collapsed": true
   },
   "outputs": [],
   "source": [
    "def xmessage(mu,x):\n",
    "    first = 1/np.power((2*np.pi),4)\n",
    "    second = np.exp(-(1/2)*(np.linalg.norm(x-mu,ord=2))**2)\n",
    "    return first * second\n",
    "    \n",
    "def x_cond(x):\n",
    "    return np.array([xmessage(mu1,x),xmessage(mu2,x)])"
   ]
  },
  {
   "cell_type": "code",
   "execution_count": 27,
   "metadata": {
    "ExecuteTime": {
     "end_time": "2018-04-19T02:50:08.501111Z",
     "start_time": "2018-04-19T02:50:08.497455Z"
    },
    "collapsed": true
   },
   "outputs": [],
   "source": [
    "h_cond = np.array([[A11,A12],[A21,A22]])\n",
    "x1_cond = x_cond(x2[0])\n",
    "pi = np.array([A21,A22])"
   ]
  },
  {
   "cell_type": "code",
   "execution_count": 28,
   "metadata": {
    "ExecuteTime": {
     "end_time": "2018-04-19T02:50:08.790697Z",
     "start_time": "2018-04-19T02:50:08.786288Z"
    },
    "collapsed": true
   },
   "outputs": [],
   "source": [
    "ph1_x1_num = np.multiply(pi,x1_cond)\n",
    "ph1_x1 = ph1_x1_num/ph1_x1_num.sum()\n",
    "def choose_h(p):\n",
    "    if p[0]>=p[1]:\n",
    "        return 1\n",
    "    else:\n",
    "        return 2\n",
    "pred_h1 =  choose_h(ph1_x1)\n",
    "pred = [pred_h1]"
   ]
  },
  {
   "cell_type": "code",
   "execution_count": 29,
   "metadata": {
    "ExecuteTime": {
     "end_time": "2018-04-19T02:50:09.041639Z",
     "start_time": "2018-04-19T02:50:09.038244Z"
    },
    "collapsed": true
   },
   "outputs": [],
   "source": [
    "def numerator(prev,x):\n",
    "    first = prev.dot(h_cond)\n",
    "    return np.multiply(first, x_cond(x))\n",
    "\n",
    "def denom(num):\n",
    "    return num.sum()"
   ]
  },
  {
   "cell_type": "code",
   "execution_count": 30,
   "metadata": {
    "ExecuteTime": {
     "end_time": "2018-04-19T02:50:09.610747Z",
     "start_time": "2018-04-19T02:50:09.527826Z"
    },
    "collapsed": true
   },
   "outputs": [],
   "source": [
    "prev = ph1_x1\n",
    "for i in range(1,x2.shape[0]):\n",
    "    num = numerator(prev,x2[i])\n",
    "    denomen = denom(num)\n",
    "    hi=choose_h(num/denomen)\n",
    "    pred.append(hi)\n",
    "    prev = num/denomen"
   ]
  },
  {
   "cell_type": "code",
   "execution_count": 31,
   "metadata": {
    "ExecuteTime": {
     "end_time": "2018-04-19T02:50:10.056232Z",
     "start_time": "2018-04-19T02:50:10.052030Z"
    }
   },
   "outputs": [
    {
     "data": {
      "text/plain": [
       "179"
      ]
     },
     "execution_count": 31,
     "metadata": {},
     "output_type": "execute_result"
    }
   ],
   "source": [
    "np.where(pred!=h2,1,0).sum()"
   ]
  },
  {
   "cell_type": "markdown",
   "metadata": {
    "collapsed": true
   },
   "source": [
    "### Q4"
   ]
  },
  {
   "cell_type": "code",
   "execution_count": 35,
   "metadata": {
    "ExecuteTime": {
     "end_time": "2018-04-19T02:51:06.144245Z",
     "start_time": "2018-04-19T02:51:06.140849Z"
    },
    "collapsed": true
   },
   "outputs": [],
   "source": [
    "#class priors\n",
    "c1 = np.where(h1==1,1,0).sum()/h1.shape[0]\n",
    "c2 = np.where(h1==2,1,0).sum()/h1.shape[0]"
   ]
  },
  {
   "cell_type": "code",
   "execution_count": 37,
   "metadata": {
    "ExecuteTime": {
     "end_time": "2018-04-19T02:51:14.853982Z",
     "start_time": "2018-04-19T02:51:14.793480Z"
    }
   },
   "outputs": [],
   "source": [
    "pred_gen=[]\n",
    "for i in range(0,x2.shape[0]):\n",
    "    check1 = c1*(1/np.power((2*np.pi),4)*np.exp(-(1/2)*(np.linalg.norm(x2[i]-mu1,ord=2)**2)))\n",
    "    check2 = c2*(1/np.power((2*np.pi),4)*np.exp(-(1/2)*(np.linalg.norm(x2[i]-mu2,ord=2)**2)))\n",
    "    if check1 >= check2:\n",
    "        pred_gen.append(1)\n",
    "    else:\n",
    "        pred_gen.append(2)"
   ]
  },
  {
   "cell_type": "code",
   "execution_count": 38,
   "metadata": {
    "ExecuteTime": {
     "end_time": "2018-04-19T02:51:15.381712Z",
     "start_time": "2018-04-19T02:51:15.377638Z"
    }
   },
   "outputs": [
    {
     "data": {
      "text/plain": [
       "292"
      ]
     },
     "execution_count": 38,
     "metadata": {},
     "output_type": "execute_result"
    }
   ],
   "source": [
    "np.where(pred_gen!=h2,1,0).sum()"
   ]
  },
  {
   "cell_type": "code",
   "execution_count": null,
   "metadata": {
    "collapsed": true
   },
   "outputs": [],
   "source": []
  }
 ],
 "metadata": {
  "kernelspec": {
   "display_name": "Python 3",
   "language": "python",
   "name": "python3"
  },
  "language_info": {
   "codemirror_mode": {
    "name": "ipython",
    "version": 3
   },
   "file_extension": ".py",
   "mimetype": "text/x-python",
   "name": "python",
   "nbconvert_exporter": "python",
   "pygments_lexer": "ipython3",
   "version": "3.6.3"
  }
 },
 "nbformat": 4,
 "nbformat_minor": 2
}
