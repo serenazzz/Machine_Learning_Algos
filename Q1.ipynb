{
 "cells": [
  {
   "cell_type": "markdown",
   "metadata": {},
   "source": [
    "# HW1 -Q1"
   ]
  },
  {
   "cell_type": "markdown",
   "metadata": {},
   "source": [
    "###### Team member:\n",
    "- Brian Allen (ba2542)\n",
    "- Haozheng Ni (hn2318)\n",
    "- Serena Zhang (mz2642)"
   ]
  },
  {
   "cell_type": "markdown",
   "metadata": {},
   "source": [
    "## Set up"
   ]
  },
  {
   "cell_type": "code",
   "execution_count": 1,
   "metadata": {
    "collapsed": true
   },
   "outputs": [],
   "source": [
    "from scipy.io import loadmat\n",
    "import numpy as np\n",
    "import matplotlib.pyplot as plt\n",
    "from matplotlib import cm\n",
    "import random\n",
    "import time"
   ]
  },
  {
   "cell_type": "code",
   "execution_count": 2,
   "metadata": {
    "scrolled": true
   },
   "outputs": [
    {
     "data": {
      "image/png": "[encoded data removed]",
      "text/plain": [
       "<matplotlib.figure.Figure at 0x1053a1390>"
      ]
     },
     "metadata": {},
     "output_type": "display_data"
    }
   ],
   "source": [
    "ocr = loadmat('ocr.mat')\n",
    "plt.imshow(ocr['data'][0].reshape((28,28)), cmap=cm.gray_r)\n",
    "plt.show()"
   ]
  },
  {
   "cell_type": "markdown",
   "metadata": {},
   "source": [
    "## Calculate Nearest Neighbor"
   ]
  },
  {
   "cell_type": "code",
   "execution_count": 3,
   "metadata": {
    "collapsed": true
   },
   "outputs": [],
   "source": [
    "def sampling(steps):\n",
    "    nums=[]\n",
    "    for n in steps:\n",
    "        sel=random.sample(range(60000),n)\n",
    "        trainx=ocr[\"data\"][sel].astype(\"float\")\n",
    "        trainy=ocr[\"labels\"][sel]\n",
    "        testx=ocr[\"testdata\"]\n",
    "        result=np.array([])\n",
    "        j=np.array([np.einsum('ij,ji->i', testx,testx.T)])\n",
    "        i=np.array([np.einsum('ij,ji->i', trainx,trainx.T)]).T\n",
    "        k=np.dot(trainx,testx.T)\n",
    "        squared=i+j\n",
    "        squared=squared-2*k\n",
    "        yindex=np.argmin(squared, axis=0)\n",
    "        result=np.append(result,trainy[yindex])\n",
    "        predicted=trainy[yindex]\n",
    "        actual=ocr[\"testlabels\"]\n",
    "        nums.append((np.sum(predicted!=actual))/ocr[\"testlabels\"].shape[0])\n",
    "    return nums"
   ]
  },
  {
   "cell_type": "code",
   "execution_count": 6,
   "metadata": {},
   "outputs": [
    {
     "name": "stdout",
     "output_type": "stream",
     "text": [
      "The model ran for 63.30587124824524 seconds ---\n"
     ]
    }
   ],
   "source": [
    "alllist=[]\n",
    "steps=[1000,2000,4000,8000]\n",
    "start_time = time.time()\n",
    "for i in range(10):\n",
    "    temp=np.asarray(sampling(steps))\n",
    "    alllist.append(temp)\n",
    "final=[sum(e)/len(e) for e in zip(*alllist)]\n",
    "print(\"The model ran for %s seconds ---\" % (time.time() - start_time))"
   ]
  },
  {
   "cell_type": "markdown",
   "metadata": {},
   "source": [
    "## Plot Error Rate"
   ]
  },
  {
   "cell_type": "code",
   "execution_count": 5,
   "metadata": {},
   "outputs": [
    {
     "data": {
      "image/png": "[encoded data removed]",
      "text/plain": [
       "<matplotlib.figure.Figure at 0x10d90f668>"
      ]
     },
     "metadata": {},
     "output_type": "display_data"
    }
   ],
   "source": [
    "import matplotlib.pyplot as plt\n",
    "\n",
    "plt.plot(steps,final,\"-d\")\n",
    "plt.grid()\n",
    "plt.xlabel(\"sample size\")\n",
    "plt.ylabel(\"test error rate\")\n",
    "plt.show()"
   ]
  }
 ],
 "metadata": {
  "kernelspec": {
   "display_name": "Python 3",
   "language": "python",
   "name": "python3"
  },
  "language_info": {
   "codemirror_mode": {
    "name": "ipython",
    "version": 3
   },
   "file_extension": ".py",
   "mimetype": "text/x-python",
   "name": "python",
   "nbconvert_exporter": "python",
   "pygments_lexer": "ipython3",
   "version": "3.6.3"
  }
 },
 "nbformat": 4,
 "nbformat_minor": 2
}
