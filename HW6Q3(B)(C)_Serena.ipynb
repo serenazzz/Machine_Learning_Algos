{
 "cells": [
  {
   "cell_type": "code",
   "execution_count": 1,
   "metadata": {
    "ExecuteTime": {
     "end_time": "2018-04-15T21:59:12.186380Z",
     "start_time": "2018-04-15T21:59:11.616523Z"
    },
    "collapsed": true
   },
   "outputs": [],
   "source": [
    "import numpy as np\n",
    "from scipy.io import loadmat\n",
    "df= loadmat('hw6data.mat')\n",
    "import matplotlib.pyplot as plt\n",
    "import warnings\n",
    "warnings.filterwarnings('ignore')\n"
   ]
  },
  {
   "cell_type": "code",
   "execution_count": 2,
   "metadata": {
    "ExecuteTime": {
     "end_time": "2018-04-15T21:59:12.192647Z",
     "start_time": "2018-04-15T21:59:12.187905Z"
    }
   },
   "outputs": [
    {
     "data": {
      "text/plain": [
       "dict_keys(['__header__', '__version__', '__globals__', 'L', 'seq1_h', 'seq1_x', 'seq2_h', 'seq2_x'])"
      ]
     },
     "execution_count": 2,
     "metadata": {},
     "output_type": "execute_result"
    }
   ],
   "source": [
    "df.keys()"
   ]
  },
  {
   "cell_type": "markdown",
   "metadata": {
    "ExecuteTime": {
     "end_time": "2018-04-14T20:11:06.954493Z",
     "start_time": "2018-04-14T20:11:06.948294Z"
    }
   },
   "source": [
    "### Qb"
   ]
  },
  {
   "cell_type": "code",
   "execution_count": 3,
   "metadata": {
    "ExecuteTime": {
     "end_time": "2018-04-15T21:59:12.196852Z",
     "start_time": "2018-04-15T21:59:12.194158Z"
    },
    "collapsed": true
   },
   "outputs": [],
   "source": [
    "h1=df[\"seq1_h\"].squeeze()\n",
    "x1=df[\"seq1_x\"]"
   ]
  },
  {
   "cell_type": "code",
   "execution_count": 4,
   "metadata": {
    "ExecuteTime": {
     "end_time": "2018-04-15T21:59:12.202656Z",
     "start_time": "2018-04-15T21:59:12.198287Z"
    },
    "collapsed": true
   },
   "outputs": [],
   "source": [
    "def calA(h,i,j):\n",
    "    num=0\n",
    "    for t in range(h.shape[0]-1):\n",
    "        if (h[t]==i) and (h[t+1])==j:\n",
    "            num+=1\n",
    "    denom= np.where(h[:-1]==i,1,0).sum()\n",
    "    return num/denom"
   ]
  },
  {
   "cell_type": "code",
   "execution_count": 5,
   "metadata": {
    "ExecuteTime": {
     "end_time": "2018-04-15T21:59:12.272320Z",
     "start_time": "2018-04-15T21:59:12.203979Z"
    },
    "collapsed": true
   },
   "outputs": [],
   "source": [
    "A11 = calA(h1,1,1)\n",
    "A12 = calA(h1,1,2)\n",
    "A21 = calA(h1,2,1)\n",
    "A22 = calA(h1,2,2)"
   ]
  },
  {
   "cell_type": "code",
   "execution_count": 6,
   "metadata": {
    "ExecuteTime": {
     "end_time": "2018-04-15T21:59:12.276695Z",
     "start_time": "2018-04-15T21:59:12.273608Z"
    }
   },
   "outputs": [
    {
     "name": "stdout",
     "output_type": "stream",
     "text": [
      "0.895306028532 0.104693971468 0.101497876146 0.898502123854\n"
     ]
    }
   ],
   "source": [
    "print(A11,A12,A21,A22)"
   ]
  },
  {
   "cell_type": "code",
   "execution_count": 7,
   "metadata": {
    "ExecuteTime": {
     "end_time": "2018-04-15T21:59:12.281321Z",
     "start_time": "2018-04-15T21:59:12.278265Z"
    }
   },
   "outputs": [],
   "source": [
    "mu1 = np.average(x1[np.where(h1==1)],axis=0)\n",
    "mu2 = np.average( x1[np.where(h1==2)],axis=0)"
   ]
  },
  {
   "cell_type": "markdown",
   "metadata": {},
   "source": [
    "### Qc"
   ]
  },
  {
   "cell_type": "code",
   "execution_count": 8,
   "metadata": {
    "ExecuteTime": {
     "end_time": "2018-04-15T21:59:12.285055Z",
     "start_time": "2018-04-15T21:59:12.282546Z"
    },
    "collapsed": true
   },
   "outputs": [],
   "source": [
    "h2=df[\"seq2_h\"].squeeze()\n",
    "x2=df[\"seq2_x\"]"
   ]
  },
  {
   "cell_type": "code",
   "execution_count": 9,
   "metadata": {
    "ExecuteTime": {
     "end_time": "2018-04-15T21:59:12.290539Z",
     "start_time": "2018-04-15T21:59:12.286968Z"
    }
   },
   "outputs": [
    {
     "data": {
      "text/plain": [
       "array([ 3.57880606,  0.41957754,  0.65787761,  0.01398859, -0.3751302 ,\n",
       "       -1.03407044,  0.1038199 , -0.2005791 ])"
      ]
     },
     "execution_count": 9,
     "metadata": {},
     "output_type": "execute_result"
    }
   ],
   "source": [
    "mu1"
   ]
  },
  {
   "cell_type": "code",
   "execution_count": 10,
   "metadata": {
    "ExecuteTime": {
     "end_time": "2018-04-15T21:59:12.295224Z",
     "start_time": "2018-04-15T21:59:12.291577Z"
    }
   },
   "outputs": [],
   "source": [
    "def xmessage(mu,x):\n",
    "    first = 1/np.power((2*np.pi),4)\n",
    "    second = np.exp(-(1/2)*np.linalg.norm(x-mu))\n",
    "    return first * second\n",
    "    \n",
    "def x_cond(x):\n",
    "    return np.array([xmessage(mu1,x),xmessage(mu2,x)])"
   ]
  },
  {
   "cell_type": "code",
   "execution_count": 11,
   "metadata": {
    "ExecuteTime": {
     "end_time": "2018-04-15T21:59:12.345289Z",
     "start_time": "2018-04-15T21:59:12.296666Z"
    }
   },
   "outputs": [],
   "source": [
    "h_cond = np.array([[A11,A12],[A21,A22]])\n",
    "x1_cond = x_cond(x2[0])\n",
    "pi = np.array([A21,A22])"
   ]
  },
  {
   "cell_type": "code",
   "execution_count": 12,
   "metadata": {
    "ExecuteTime": {
     "end_time": "2018-04-15T21:59:12.350420Z",
     "start_time": "2018-04-15T21:59:12.346418Z"
    }
   },
   "outputs": [],
   "source": [
    "ph1_x1_num = np.multiply(pi,x1_cond)\n",
    "ph1_x1 = ph1_x1_num/ph1_x1_num.sum()\n",
    "def choose_h(p):\n",
    "    if p[0]>=p[1]:\n",
    "        return 1\n",
    "    else:\n",
    "        return 2\n",
    "pred_h1 =  choose_h(ph1_x1)\n",
    "pred = [pred_h1]"
   ]
  },
  {
   "cell_type": "code",
   "execution_count": 13,
   "metadata": {
    "ExecuteTime": {
     "end_time": "2018-04-15T21:59:12.355704Z",
     "start_time": "2018-04-15T21:59:12.352464Z"
    },
    "collapsed": true
   },
   "outputs": [],
   "source": [
    "def numerator(prev,x):\n",
    "    first = prev.dot(h_cond)\n",
    "    return np.multiply(first, x_cond(x))\n",
    "\n",
    "def denom(num):\n",
    "    return num.sum()"
   ]
  },
  {
   "cell_type": "code",
   "execution_count": 14,
   "metadata": {
    "ExecuteTime": {
     "end_time": "2018-04-15T21:59:12.426545Z",
     "start_time": "2018-04-15T21:59:12.356845Z"
    }
   },
   "outputs": [],
   "source": [
    "prev = ph1_x1\n",
    "for i in range(1,x2.shape[0]):\n",
    "    num = numerator(prev,x2[i])\n",
    "    denomen = denom(num)\n",
    "    hi=choose_h(num/denomen)\n",
    "    pred.append(hi)\n",
    "    prev = num/denomen"
   ]
  },
  {
   "cell_type": "code",
   "execution_count": 15,
   "metadata": {
    "ExecuteTime": {
     "end_time": "2018-04-15T21:59:12.430878Z",
     "start_time": "2018-04-15T21:59:12.427642Z"
    }
   },
   "outputs": [
    {
     "data": {
      "text/plain": [
       "284"
      ]
     },
     "execution_count": 15,
     "metadata": {},
     "output_type": "execute_result"
    }
   ],
   "source": [
    "np.where(pred!=h2,1,0).sum()"
   ]
  },
  {
   "cell_type": "code",
   "execution_count": null,
   "metadata": {
    "collapsed": true
   },
   "outputs": [],
   "source": []
  }
 ],
 "metadata": {
  "kernelspec": {
   "display_name": "Python 3",
   "language": "python",
   "name": "python3"
  },
  "language_info": {
   "codemirror_mode": {
    "name": "ipython",
    "version": 3
   },
   "file_extension": ".py",
   "mimetype": "text/x-python",
   "name": "python",
   "nbconvert_exporter": "python",
   "pygments_lexer": "ipython3",
   "version": "3.6.3"
  }
 },
 "nbformat": 4,
 "nbformat_minor": 2
}
