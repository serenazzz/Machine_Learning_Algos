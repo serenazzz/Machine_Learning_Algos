{
 "cells": [
  {
   "cell_type": "code",
   "execution_count": 1,
   "metadata": {
    "collapsed": true
   },
   "outputs": [],
   "source": [
    "\n",
    "import pandas as pd\n",
    "from sklearn.linear_model import LogisticRegression\n",
    "from sklearn.model_selection import GridSearchCV\n",
    "from sklearn.pipeline import make_pipeline\n",
    "from sklearn.preprocessing import MaxAbsScaler\n",
    "import numpy as np"
   ]
  },
  {
   "cell_type": "markdown",
   "metadata": {},
   "source": [
    "### Data Prep"
   ]
  },
  {
   "cell_type": "code",
   "execution_count": 2,
   "metadata": {
    "collapsed": true
   },
   "outputs": [],
   "source": [
    "column=[\"age\",\"work_class\",\"gnlwgt\",\"education\",\"education-num\",\"marital_status\",\"occupation\",\"relationship\",\n",
    "        \"race\",\"sex\",\"capital-gain\",\"capital-loss\",\"hours-per-week\",\"native-country\",\"salary\"]\n",
    "x_train=pd.read_csv(\"adult-new.data.txt\",header=None,names=column)\n",
    "x_test=pd.read_csv(\"adult-new.test\",header=None,names=column)"
   ]
  },
  {
   "cell_type": "code",
   "execution_count": 3,
   "metadata": {
    "collapsed": true
   },
   "outputs": [],
   "source": [
    "#make target column\n",
    "x_train[\"target\"]=np.where(x_train[\"salary\"]==\" <=50K\",0,1)\n",
    "x_test[\"target\"]=np.where(x_test[\"salary\"]==\" <=50K\",0,1)\n",
    "y_train=x_train['target']\n",
    "y_test=x_test[\"target\"]\n",
    "\n",
    "#split test y data by sex\n",
    "y_test_female=x_test[x_test.sex==\" Female\"][\"target\"]\n",
    "y_test_male=x_test[x_test.sex==\" Male\"][\"target\"]\n",
    "\n",
    "#drop target from train\n",
    "x_train=x_train.drop(\"salary\",axis=1)\n",
    "x_test=x_test.drop(\"salary\",axis=1)\n",
    "x_train=x_train.drop(\"target\",axis=1)\n",
    "x_test=x_test.drop(\"target\",axis=1)"
   ]
  },
  {
   "cell_type": "code",
   "execution_count": 4,
   "metadata": {
    "collapsed": true
   },
   "outputs": [],
   "source": [
    "#categorical data\n",
    "dfall=pd.concat([x_test,x_train],axis=0)\n",
    "all_dummy=pd.get_dummies(dfall,dummy_na=False)\n",
    "x_test_dum=all_dummy[:x_test.shape[0]]\n",
    "x_train_dum=all_dummy[x_test.shape[0]:]"
   ]
  },
  {
   "cell_type": "code",
   "execution_count": 5,
   "metadata": {
    "collapsed": true
   },
   "outputs": [],
   "source": [
    "#split test x data by sex\n",
    "female_test_x=x_test_dum[x_test_dum[\"sex_ Female\"]==1] \n",
    "male_test_x=x_test_dum[x_test_dum[\"sex_ Male\"]==1]"
   ]
  },
  {
   "cell_type": "code",
   "execution_count": 6,
   "metadata": {},
   "outputs": [
    {
     "data": {
      "text/plain": [
       "(32561, 108)"
      ]
     },
     "execution_count": 6,
     "metadata": {},
     "output_type": "execute_result"
    }
   ],
   "source": [
    "x_train_dum.shape"
   ]
  },
  {
   "cell_type": "markdown",
   "metadata": {},
   "source": [
    "### Affine Classifier"
   ]
  },
  {
   "cell_type": "code",
   "execution_count": 7,
   "metadata": {},
   "outputs": [
    {
     "name": "stdout",
     "output_type": "stream",
     "text": [
      "Time:  356.6058702468872\n"
     ]
    }
   ],
   "source": [
    "import time\n",
    "start=time.time()\n",
    "pipe = make_pipeline(MaxAbsScaler(), LogisticRegression(fit_intercept=True,dual=False))\n",
    "param_grid={\"logisticregression__C\":np.logspace(-3,2,10),            \n",
    "            \"logisticregression__penalty\":[\"l1\",\"l2\"]}\n",
    "grid = GridSearchCV(pipe, cv=10, param_grid=param_grid,verbose=False)\n",
    "grid.fit(x_train_dum, y_train)\n",
    "print(\"Time: \", time.time()-start)"
   ]
  },
  {
   "cell_type": "code",
   "execution_count": 27,
   "metadata": {},
   "outputs": [
    {
     "name": "stdout",
     "output_type": "stream",
     "text": [
      "{'logisticregression__C': 100.0, 'logisticregression__penalty': 'l1'}\n"
     ]
    }
   ],
   "source": [
    "print(grid.best_params_)"
   ]
  },
  {
   "cell_type": "code",
   "execution_count": 8,
   "metadata": {
    "collapsed": true
   },
   "outputs": [],
   "source": [
    "pred_logistic=grid.predict(x_test_dum)\n",
    "train_logistic=grid.predict(x_train_dum)"
   ]
  },
  {
   "cell_type": "code",
   "execution_count": 9,
   "metadata": {
    "collapsed": true
   },
   "outputs": [],
   "source": [
    "def acc(y1,ypred):\n",
    "    same=np.sum(y1 == ypred)\n",
    "    return (1-same/y1.shape[0])"
   ]
  },
  {
   "cell_type": "code",
   "execution_count": 10,
   "metadata": {},
   "outputs": [
    {
     "name": "stdout",
     "output_type": "stream",
     "text": [
      "The train error rate for logistic regression is:  0.146647830226\n",
      "The test error rate for logistic regression is:  0.147841041705\n"
     ]
    }
   ],
   "source": [
    "print(\"The train error rate for logistic regression is: \",acc(y_train,train_logistic))\n",
    "print(\"The test error rate for logistic regression is: \",acc(y_test,pred_logistic))"
   ]
  },
  {
   "cell_type": "code",
   "execution_count": 11,
   "metadata": {
    "collapsed": true
   },
   "outputs": [],
   "source": [
    "#get prediction for both female and male records\n",
    "logistic_f_pred=grid.predict(female_test_x)\n",
    "logistic_m_pred=grid.predict(male_test_x)"
   ]
  },
  {
   "cell_type": "code",
   "execution_count": 12,
   "metadata": {
    "collapsed": true
   },
   "outputs": [],
   "source": [
    "def fp(y1,ypred):\n",
    "    n=ypred.shape[0]\n",
    "    num=np.sum((ypred==1)&(ypred!=y1))\n",
    "    return num/n"
   ]
  },
  {
   "cell_type": "code",
   "execution_count": 13,
   "metadata": {
    "collapsed": true
   },
   "outputs": [],
   "source": [
    "def fn(y1,ypred):\n",
    "    n=ypred.shape[0]\n",
    "    num=np.sum((ypred==0)&(ypred!=y1))\n",
    "    return num/n"
   ]
  },
  {
   "cell_type": "code",
   "execution_count": 14,
   "metadata": {
    "collapsed": true
   },
   "outputs": [],
   "source": [
    "fn_logistic_female=fn(y_test_female,logistic_f_pred)\n",
    "fp_logistic_female=fp(y_test_female,logistic_f_pred)\n",
    "fn_logistic_male=fn(y_test_male,logistic_m_pred)\n",
    "fp_logistic_male=fp(y_test_male,logistic_m_pred)"
   ]
  },
  {
   "cell_type": "code",
   "execution_count": 15,
   "metadata": {},
   "outputs": [
    {
     "name": "stdout",
     "output_type": "stream",
     "text": [
      "0.0521739130435 0.0188714153562\n",
      "0.115575579257 0.0704303052593\n"
     ]
    }
   ],
   "source": [
    "print(fn_logistic_female,fp_logistic_female)\n",
    "print(fn_logistic_male,fp_logistic_male)"
   ]
  },
  {
   "cell_type": "markdown",
   "metadata": {},
   "source": [
    "### Random Forest"
   ]
  },
  {
   "cell_type": "code",
   "execution_count": 29,
   "metadata": {},
   "outputs": [
    {
     "name": "stdout",
     "output_type": "stream",
     "text": [
      "The process took:  241.01130032539368 seconds\n",
      "The Best parameters are:  {'max_features': 0.5, 'n_estimators': 150}\n"
     ]
    }
   ],
   "source": [
    "from sklearn.ensemble import RandomForestClassifier\n",
    "start=time.time()\n",
    "n=x_train.shape[1]\n",
    "rfc = RandomForestClassifier(max_features=n ,n_estimators=128) \n",
    "param_grid = { \n",
    "    'n_estimators': [150,200],\n",
    "    'max_features': [1.0,0.5]\n",
    "    #'max_depth':[8,15,30,60]\n",
    "}\n",
    "CV_rfc = GridSearchCV(estimator=rfc, param_grid=param_grid, cv=3)\n",
    "CV_rfc.fit(x_train_dum, y_train)\n",
    "print(\"The process took: \",time.time()-start,\"seconds\")\n",
    "print(\"The Best parameters are: \",CV_rfc.best_params_)"
   ]
  },
  {
   "cell_type": "code",
   "execution_count": 30,
   "metadata": {
    "collapsed": true
   },
   "outputs": [],
   "source": [
    "pred_rf=CV_rfc.predict(x_test_dum)\n",
    "train_rf=CV_rfc.predict(x_train_dum)"
   ]
  },
  {
   "cell_type": "code",
   "execution_count": 31,
   "metadata": {},
   "outputs": [
    {
     "name": "stdout",
     "output_type": "stream",
     "text": [
      "The train error rate for random forest regression is:  6.14231749639e-05\n",
      "The test error rate for random forest regression is:  0.142128861864\n"
     ]
    }
   ],
   "source": [
    "print(\"The train error rate for random forest regression is: \",acc(y_train,train_rf))\n",
    "print(\"The test error rate for random forest regression is: \",acc(y_test,pred_rf))"
   ]
  },
  {
   "cell_type": "code",
   "execution_count": 32,
   "metadata": {
    "collapsed": true
   },
   "outputs": [],
   "source": [
    "rf_f_pred=CV_rfc.predict(female_test_x)\n",
    "rf_m_pred=CV_rfc.predict(male_test_x)\n",
    "fn_rf_female=fn(y_test_female,rf_f_pred)\n",
    "fp_rf_female=fp(y_test_female,rf_f_pred)\n",
    "\n",
    "fn_rf_male=fn(y_test_male,rf_m_pred)\n",
    "fp_rf_male=fp(y_test_male,rf_m_pred)"
   ]
  },
  {
   "cell_type": "code",
   "execution_count": 33,
   "metadata": {},
   "outputs": [
    {
     "name": "stdout",
     "output_type": "stream",
     "text": [
      "0.0460684551341 0.0212765957447\n",
      "0.110794409709 0.0684994483266\n"
     ]
    }
   ],
   "source": [
    "print(fn_rf_female,fp_rf_female)\n",
    "print(fn_rf_male,fp_rf_male)"
   ]
  },
  {
   "cell_type": "markdown",
   "metadata": {},
   "source": [
    "### Linear SVC"
   ]
  },
  {
   "cell_type": "code",
   "execution_count": 21,
   "metadata": {},
   "outputs": [
    {
     "name": "stdout",
     "output_type": "stream",
     "text": [
      "The model ran for 3.388603925704956 seconds ---\n",
      "The Best parameters are:  {'linearsvc__C': 2.5118864315095797}\n"
     ]
    }
   ],
   "source": [
    "from sklearn.svm import LinearSVC\n",
    "pipe1=make_pipeline(MaxAbsScaler(), LinearSVC(dual=False))\n",
    "start_time = time.time()\n",
    "param_grid = {'linearsvc__C': np.logspace(-2, 1, 6)}\n",
    "grid2 = GridSearchCV(pipe1,param_grid=param_grid)\n",
    "grid2.fit(x_train_dum, y_train)\n",
    "print(\"The model ran for %s seconds ---\" % (time.time() - start_time))\n",
    "print(\"The Best parameters are: \",grid2.best_params_)"
   ]
  },
  {
   "cell_type": "code",
   "execution_count": 22,
   "metadata": {
    "collapsed": true
   },
   "outputs": [],
   "source": [
    "train_linearsvc=grid2.predict(x_train_dum)\n",
    "pred_linearsvc=grid2.predict(x_test_dum)"
   ]
  },
  {
   "cell_type": "code",
   "execution_count": 23,
   "metadata": {},
   "outputs": [
    {
     "name": "stdout",
     "output_type": "stream",
     "text": [
      "The train error rate for SVC regression is:  0.146432849114\n",
      "The test error rate for SVC regression is:  0.147103986242\n"
     ]
    }
   ],
   "source": [
    "print(\"The train error rate for SVC regression is: \",acc(y_train,train_linearsvc))\n",
    "print(\"The test error rate for SVC regression is: \",acc(y_test,pred_linearsvc))"
   ]
  },
  {
   "cell_type": "code",
   "execution_count": 24,
   "metadata": {
    "collapsed": true
   },
   "outputs": [],
   "source": [
    "svc_f_pred=grid2.predict(female_test_x)\n",
    "svc_m_pred=grid2.predict(male_test_x)\n",
    "\n",
    "fn_svc_female=fn(y_test_female,svc_f_pred)\n",
    "fp_svc_female=fp(y_test_female,svc_f_pred)\n",
    "\n",
    "fn_svc_male=fn(y_test_male,svc_m_pred)\n",
    "fp_svc_male=fp(y_test_male,svc_m_pred)"
   ]
  },
  {
   "cell_type": "code",
   "execution_count": 26,
   "metadata": {},
   "outputs": [
    {
     "name": "stdout",
     "output_type": "stream",
     "text": [
      "0.0527289546716 0.0175763182239\n",
      "0.119253401986 0.0660169179846\n"
     ]
    }
   ],
   "source": [
    "print(fn_svc_female,fp_svc_female)\n",
    "print(fn_svc_male,fp_svc_male)"
   ]
  },
  {
   "cell_type": "code",
   "execution_count": null,
   "metadata": {
    "collapsed": true
   },
   "outputs": [],
   "source": []
  }
 ],
 "metadata": {
  "kernelspec": {
   "display_name": "Python 3",
   "language": "python",
   "name": "python3"
  },
  "language_info": {
   "codemirror_mode": {
    "name": "ipython",
    "version": 3
   },
   "file_extension": ".py",
   "mimetype": "text/x-python",
   "name": "python",
   "nbconvert_exporter": "python",
   "pygments_lexer": "ipython3",
   "version": "3.6.3"
  }
 },
 "nbformat": 4,
 "nbformat_minor": 2
}
