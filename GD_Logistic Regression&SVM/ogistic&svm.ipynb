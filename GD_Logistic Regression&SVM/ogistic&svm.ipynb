{
 "cells": [
  {
   "cell_type": "code",
   "execution_count": 207,
   "metadata": {
    "collapsed": true
   },
   "outputs": [],
   "source": [
    "from scipy.io import loadmat\n",
    "data = loadmat('hw3data.mat')"
   ]
  },
  {
   "cell_type": "code",
   "execution_count": 208,
   "metadata": {
    "collapsed": true
   },
   "outputs": [],
   "source": [
    "import pandas as pd\n",
    "import numpy as np"
   ]
  },
  {
   "cell_type": "code",
   "execution_count": 209,
   "metadata": {
    "collapsed": true
   },
   "outputs": [],
   "source": [
    "X = data['data']\n",
    "y = data['labels'].reshape(-1)"
   ]
  },
  {
   "cell_type": "markdown",
   "metadata": {},
   "source": [
    "# Q3"
   ]
  },
  {
   "cell_type": "markdown",
   "metadata": {},
   "source": [
    "## Part(b)"
   ]
  },
  {
   "cell_type": "code",
   "execution_count": 23,
   "metadata": {
    "collapsed": true
   },
   "outputs": [],
   "source": [
    "def pred(X,beta0,beta):\n",
    "    return np.divide(1.*np.exp(np.dot(X,beta)+beta0),1+np.exp(np.dot(X,beta)+beta0))"
   ]
  },
  {
   "cell_type": "code",
   "execution_count": 24,
   "metadata": {
    "collapsed": true
   },
   "outputs": [],
   "source": [
    "def eval_f(X,y,beta0,beta):\n",
    "    return np.sum(-(np.dot(X,beta)+beta0)*y+np.log(1+np.exp(np.dot(X,beta)+beta0)))/X.shape[0]\n",
    "    "
   ]
  },
  {
   "cell_type": "code",
   "execution_count": 25,
   "metadata": {
    "collapsed": true
   },
   "outputs": [],
   "source": [
    "def eval_grad(X,y,beta0,beta):\n",
    "    grad0 = np.sum(pred(X,beta0,beta)-y)/X.shape[0]\n",
    "    grad = np.sum(X*(pred(X,beta0,beta)-y)[:,np.newaxis],axis=0)/X.shape[0]\n",
    "    return grad0,grad"
   ]
  },
  {
   "cell_type": "code",
   "execution_count": 26,
   "metadata": {
    "collapsed": true
   },
   "outputs": [],
   "source": [
    "def backtrack(X,y,beta0,beta,grad0,grad):\n",
    "    eta=1.\n",
    "    while eval_f(X, y, beta0 - eta * grad0,beta - eta * grad) > eval_f(X, y, beta0 ,beta) - 0.5 * eta * (grad0**2+np.dot(grad,grad)):\n",
    "        eta =1.0* eta / 2\n",
    "    return eta\n",
    "        "
   ]
  },
  {
   "cell_type": "code",
   "execution_count": 27,
   "metadata": {
    "collapsed": true
   },
   "outputs": [],
   "source": [
    "def GD(X,y,eta,beta0,beta,stop_value):\n",
    "    t = 0\n",
    "    while eval_f(X,y,beta0,beta) > stop_value:\n",
    "        if t%100==0:\n",
    "            print \"The function value at iter {} is {},step size is {}\".format(t, eval_f(X,y,beta0,beta),eta)\n",
    "        grad0,grad=eval_grad(X,y,beta0,beta)\n",
    "        eta = backtrack(X,y,beta0,beta,grad0,grad)\n",
    "        beta0 = beta0-eta*grad0\n",
    "        beta = beta-eta*grad\n",
    "        t = t + 1\n",
    "    return t,eta,beta0,beta\n",
    "        "
   ]
  },
  {
   "cell_type": "code",
   "execution_count": 28,
   "metadata": {},
   "outputs": [
    {
     "name": "stdout",
     "output_type": "stream",
     "text": [
      "The function value at iter 0 is 0.69314718056,step size is 1\n",
      "The function value at iter 100 is 0.674407150309,step size is 0.125\n",
      "The function value at iter 200 is 0.666769505129,step size is 0.5\n",
      "The function value at iter 300 is 0.66133229918,step size is 0.0625\n",
      "The function value at iter 400 is 0.658041652396,step size is 0.25\n",
      "The function value at iter 500 is 0.656438099708,step size is 0.015625\n",
      "The function value at iter 600 is 0.654996512674,step size is 0.5\n",
      "The function value at iter 700 is 0.65393358145,step size is 0.015625\n",
      "The function value at iter 800 is 0.653210008008,step size is 0.015625\n",
      "The function value at iter 900 is 0.652705457087,step size is 0.0625\n",
      "The function value at iter 1000 is 0.652276632192,step size is 0.015625\n",
      "The function value at iter 1100 is 0.651927505302,step size is 0.125\n",
      "The function value at iter 1200 is 0.65157601284,step size is 0.015625\n",
      "The function value at iter 1300 is 0.65137092127,step size is 0.015625\n",
      "The function value at iter 1400 is 0.651203433942,step size is 0.25\n",
      "The function value at iter 1500 is 0.651093790614,step size is 0.015625\n",
      "The function value at iter 1600 is 0.650999339262,step size is 0.25\n",
      "The function value at iter 1700 is 0.650928131582,step size is 0.015625\n",
      "The function value at iter 1800 is 0.650875836902,step size is 0.125\n",
      "The function value at iter 1900 is 0.650833866203,step size is 0.125\n",
      "The function value at iter 2000 is 0.650800863891,step size is 0.015625\n",
      "The function value at iter 2100 is 0.650773661435,step size is 0.0625\n",
      "The function value at iter 2200 is 0.650751838992,step size is 0.0625\n",
      "The function value at iter 2300 is 0.650735825121,step size is 0.0625\n",
      "The function value at iter 2400 is 0.650719904411,step size is 0.03125\n",
      "The function value at iter 2500 is 0.650709531051,step size is 0.03125\n",
      "The function value at iter 2600 is 0.650698368077,step size is 0.015625\n",
      "The function value at iter 2700 is 0.650689084529,step size is 0.125\n",
      "The function value at iter 2800 is 0.650681477116,step size is 0.03125\n",
      "The function value at iter 2900 is 0.650674695118,step size is 0.0625\n",
      "The function value at iter 3000 is 0.650669575191,step size is 0.03125\n",
      "The function value at iter 3100 is 0.650664998202,step size is 0.03125\n",
      "The function value at iter 3200 is 0.650661529758,step size is 0.0625\n",
      "The function value at iter 3300 is 0.650658153677,step size is 0.03125\n",
      "The function value at iter 3400 is 0.650655156268,step size is 0.25\n",
      "The function value at iter 3500 is 0.650652930061,step size is 0.015625\n",
      "The function value at iter 3600 is 0.650650902675,step size is 0.0625\n",
      "The function value at iter 3700 is 0.65064912593,step size is 0.03125\n",
      "The function value at iter 3800 is 0.650647567867,step size is 0.25\n",
      "The function value at iter 3900 is 0.650646221268,step size is 0.03125\n",
      "The function value at iter 4000 is 0.650645043121,step size is 0.015625\n",
      "The function value at iter 4100 is 0.650643959671,step size is 0.0625\n",
      "The function value at iter 4200 is 0.650643040368,step size is 0.0625\n",
      "The function value at iter 4300 is 0.65064222705,step size is 0.0625\n",
      "The function value at iter 4400 is 0.650641483927,step size is 0.015625\n",
      "The function value at iter 4500 is 0.650640849888,step size is 0.03125\n",
      "The function value at iter 4600 is 0.650640288944,step size is 0.03125\n"
     ]
    }
   ],
   "source": [
    "eta = 1\n",
    "beta0=0\n",
    "beta = np.zeros(X.shape[1])\n",
    "stop_value = 0.65064\n",
    "n,eta,beta0,beta = GD(X,y,eta,beta0,beta,stop_value)"
   ]
  },
  {
   "cell_type": "code",
   "execution_count": 29,
   "metadata": {},
   "outputs": [
    {
     "data": {
      "text/plain": [
       "4658"
      ]
     },
     "execution_count": 29,
     "metadata": {},
     "output_type": "execute_result"
    }
   ],
   "source": [
    "n"
   ]
  },
  {
   "cell_type": "markdown",
   "metadata": {},
   "source": [
    "## Part(c)"
   ]
  },
  {
   "cell_type": "code",
   "execution_count": 63,
   "metadata": {},
   "outputs": [
    {
     "data": {
      "text/plain": [
       "array([ 9.92041801,  0.50598858,  9.92647862])"
      ]
     },
     "execution_count": 63,
     "metadata": {},
     "output_type": "execute_result"
    }
   ],
   "source": [
    "# mean\n",
    "X.mean(axis=0)"
   ]
  },
  {
   "cell_type": "code",
   "execution_count": 64,
   "metadata": {},
   "outputs": [
    {
     "data": {
      "text/plain": [
       "array([ 33.00787944,   0.08197625,  33.55387255])"
      ]
     },
     "execution_count": 64,
     "metadata": {},
     "output_type": "execute_result"
    }
   ],
   "source": [
    "# variance\n",
    "X.var(axis=0)"
   ]
  },
  {
   "cell_type": "code",
   "execution_count": 65,
   "metadata": {},
   "outputs": [
    {
     "data": {
      "text/plain": [
       "array([ 5.74524842,  0.28631495,  5.79257046])"
      ]
     },
     "execution_count": 65,
     "metadata": {},
     "output_type": "execute_result"
    }
   ],
   "source": [
    "np.sqrt(X.var(axis=0))"
   ]
  },
  {
   "cell_type": "markdown",
   "metadata": {},
   "source": [
    "Observation is feature 1 and 3 have larger mean and variance. Therefore standardize could be one solution"
   ]
  },
  {
   "cell_type": "code",
   "execution_count": 66,
   "metadata": {
    "collapsed": true
   },
   "outputs": [],
   "source": [
    "X_new = (X-X.mean(axis=0))/np.sqrt(X.var(axis=0))"
   ]
  },
  {
   "cell_type": "code",
   "execution_count": 67,
   "metadata": {},
   "outputs": [
    {
     "data": {
      "text/plain": [
       "array([[ 0.67330143,  1.07830594,  1.11798275],\n",
       "       [-1.55107618,  1.39637613, -0.53252446],\n",
       "       [-1.08467646, -1.32372329,  1.29710365],\n",
       "       ..., \n",
       "       [-1.217567  ,  0.69923996,  0.87637308],\n",
       "       [-0.62399746,  0.10204608, -1.64606175],\n",
       "       [-0.74773266, -1.09242477,  0.89370759]])"
      ]
     },
     "execution_count": 67,
     "metadata": {},
     "output_type": "execute_result"
    }
   ],
   "source": [
    "X_new"
   ]
  },
  {
   "cell_type": "code",
   "execution_count": 68,
   "metadata": {},
   "outputs": [
    {
     "name": "stdout",
     "output_type": "stream",
     "text": [
      "The function value at iter 0 is 0.69314718056,step size is 1\n"
     ]
    }
   ],
   "source": [
    "eta = 1\n",
    "beta0=0\n",
    "beta = np.zeros(X_new.shape[1])\n",
    "stop_value = 0.65064\n",
    "n,eta,beta0,beta = GD(X_new,y,eta,beta0,beta,stop_value)"
   ]
  },
  {
   "cell_type": "code",
   "execution_count": 69,
   "metadata": {},
   "outputs": [
    {
     "data": {
      "text/plain": [
       "19"
      ]
     },
     "execution_count": 69,
     "metadata": {},
     "output_type": "execute_result"
    }
   ],
   "source": [
    "n"
   ]
  },
  {
   "cell_type": "markdown",
   "metadata": {},
   "source": [
    "## Part(d)"
   ]
  },
  {
   "cell_type": "code",
   "execution_count": 187,
   "metadata": {
    "collapsed": true
   },
   "outputs": [],
   "source": [
    "def check_power(n):\n",
    "    n = n/2\n",
    "    if n == 2:\n",
    "        return True\n",
    "    elif n > 2:\n",
    "        return check_power(n)\n",
    "    else:\n",
    "        return False"
   ]
  },
  {
   "cell_type": "code",
   "execution_count": 188,
   "metadata": {
    "collapsed": true
   },
   "outputs": [],
   "source": [
    "def eval_val(X_val,y_val,beta0,beta):\n",
    "    error = sum(1-((np.dot(X_val,beta)+beta0)*y_val<0))\n",
    "    return (1.*error)/X_val.shape[0]\n",
    "    "
   ]
  },
  {
   "cell_type": "code",
   "execution_count": 189,
   "metadata": {
    "collapsed": true
   },
   "outputs": [],
   "source": [
    "def GD_Val(X,y,eta,beta0,beta):\n",
    "    index = int(np.floor(X.shape[0]*0.8))\n",
    "    X_train = X[:index]\n",
    "    y_train = y[:index]\n",
    "    X_val=X[index:]\n",
    "    y_val = y[index:]\n",
    "    t=0\n",
    "    error_train = 0\n",
    "    best_val  = eval_val(X_val,y_val,beta0,beta)\n",
    "    error_val = [eval_val(X_val,y_val,beta0,beta)]\n",
    "    while True:\n",
    "        if t%10==0:\n",
    "            print \"The function value at iter {} is {}, validation error is {},best error is {}\".format(t, eval_f(X_train,y_train,beta0,beta),\n",
    "                                                                                                        error_val[-1],best_val)\n",
    "        t = t + 1\n",
    "        grad0,grad=eval_grad(X_train,y_train,beta0,beta)\n",
    "        eta = backtrack(X_train,y_train,beta0,beta,grad0,grad)\n",
    "        beta0 = beta0-eta*grad0\n",
    "        beta = beta-eta*grad\n",
    "        if check_power(t):\n",
    "            curr_error_val = eval_val(X_val,y_val,beta0,beta)\n",
    "            error_val.append(curr_error_val)\n",
    "            if curr_error_val > 0.99*best_val and t>=32:\n",
    "                return t,eval_f(X_train,y_train,beta0,beta),curr_error_val,error_val\n",
    "                break\n",
    "            elif curr_error_val < best_val:\n",
    "                best_val = curr_error_val\n",
    "        "
   ]
  },
  {
   "cell_type": "code",
   "execution_count": 190,
   "metadata": {},
   "outputs": [
    {
     "name": "stdout",
     "output_type": "stream",
     "text": [
      "The function value at iter 0 is 0.69314718056, validation error is 1.0,best error is 1.0\n",
      "The function value at iter 10 is 0.68936667307, validation error is 0.812195121951,best error is 0.608536585366\n",
      "The function value at iter 20 is 0.687363243376, validation error is 0.735365853659,best error is 0.608536585366\n",
      "The function value at iter 30 is 0.684597100085, validation error is 0.789024390244,best error is 0.608536585366\n"
     ]
    }
   ],
   "source": [
    "# original data\n",
    "eta = 1\n",
    "beta0=0\n",
    "beta = np.zeros(X.shape[1])\n",
    "t,obj_val,final_error_val,error_val = GD_Val(X,y,eta,beta0,beta)"
   ]
  },
  {
   "cell_type": "code",
   "execution_count": 191,
   "metadata": {},
   "outputs": [
    {
     "name": "stdout",
     "output_type": "stream",
     "text": [
      "The number of iter is 32,final objective value is 0.684290149822, final validation error is 0.735365853659\n"
     ]
    }
   ],
   "source": [
    "print \"The number of iter is {},final objective value is {}, final validation error is {}\".format(t,obj_val,final_error_val)"
   ]
  },
  {
   "cell_type": "code",
   "execution_count": 192,
   "metadata": {},
   "outputs": [
    {
     "name": "stdout",
     "output_type": "stream",
     "text": [
      "The function value at iter 0 is 0.69314718056, validation error is 1.0,best error is 1.0\n",
      "The function value at iter 10 is 0.650347709127, validation error is 0.819512195122,best error is 0.819512195122\n",
      "The function value at iter 20 is 0.650092875452, validation error is 0.819512195122,best error is 0.819512195122\n",
      "The function value at iter 30 is 0.650090742404, validation error is 0.819512195122,best error is 0.819512195122\n"
     ]
    }
   ],
   "source": [
    "# original data\n",
    "eta = 1\n",
    "beta0=0\n",
    "beta = np.zeros(X.shape[1])\n",
    "t,obj_val,final_error_val,error_val = GD_Val(X_new,y,eta,beta0,beta)"
   ]
  },
  {
   "cell_type": "code",
   "execution_count": 193,
   "metadata": {},
   "outputs": [
    {
     "name": "stdout",
     "output_type": "stream",
     "text": [
      "The number of iter is 32,final objective value is 0.650090730947, final validation error is 0.819512195122\n"
     ]
    }
   ],
   "source": [
    "print \"The number of iter is {},final objective value is {}, final validation error is {}\".format(t,obj_val,final_error_val)"
   ]
  },
  {
   "cell_type": "code",
   "execution_count": null,
   "metadata": {
    "collapsed": true
   },
   "outputs": [],
   "source": []
  },
  {
   "cell_type": "code",
   "execution_count": null,
   "metadata": {
    "collapsed": true
   },
   "outputs": [],
   "source": []
  },
  {
   "cell_type": "markdown",
   "metadata": {},
   "source": [
    "# Q4"
   ]
  },
  {
   "cell_type": "code",
   "execution_count": 258,
   "metadata": {
    "collapsed": true
   },
   "outputs": [],
   "source": [
    "X = data['data']\n",
    "y = data['labels'].reshape(-1)"
   ]
  },
  {
   "cell_type": "markdown",
   "metadata": {},
   "source": [
    "## Part(c)"
   ]
  },
  {
   "cell_type": "code",
   "execution_count": 259,
   "metadata": {},
   "outputs": [
    {
     "data": {
      "text/plain": [
       "array([0, 1, 1, ..., 0, 1, 0], dtype=uint8)"
      ]
     },
     "execution_count": 259,
     "metadata": {},
     "output_type": "execute_result"
    }
   ],
   "source": [
    "y"
   ]
  },
  {
   "cell_type": "code",
   "execution_count": 260,
   "metadata": {
    "collapsed": true
   },
   "outputs": [],
   "source": [
    "#preprocessing\n",
    "\n",
    "#replace 0 as -1\n",
    "temp=[]\n",
    "for i in y:\n",
    "    if i == 0:\n",
    "        temp.append(-1)\n",
    "    else:\n",
    "        temp.append(1)\n",
    "y=np.array(temp)\n",
    "\n",
    "# standardize X\n",
    "X = (X-X.mean(axis=0))/np.sqrt(X.var(axis=0))"
   ]
  },
  {
   "cell_type": "code",
   "execution_count": 261,
   "metadata": {
    "collapsed": true
   },
   "outputs": [],
   "source": [
    "def eval_f(X,y,alpha):\n",
    "    Y = np.outer(y,y)\n",
    "    A = np.outer(alpha,alpha)\n",
    "    K = np.dot(X,X.T)\n",
    "    return np.sum(alpha)- np.sum(Y*K*A)"
   ]
  },
  {
   "cell_type": "code",
   "execution_count": 294,
   "metadata": {
    "collapsed": true
   },
   "outputs": [],
   "source": [
    "def coord_ascent(X,y,C):\n",
    "    n = X.shape[0]\n",
    "    alpha = np.zeros(n)\n",
    "    t = 0\n",
    "    print(\"The target value at itr {} is {}\".format(t,eval_f(X,y,alpha)))\n",
    "    while t < 2:\n",
    "        for k in range(n):\n",
    "            h = (1-2.*(np.sum(y*alpha*y[k])-2*y[k]**2*alpha[k]))/(2*np.dot(X[k],X[k]))\n",
    "            if h > C:\n",
    "                alpha[k]=C\n",
    "            elif h < 0:\n",
    "                alpha[k]=0\n",
    "            else:\n",
    "                alpha[k]=h\n",
    "        t += 1\n",
    "        print(\"The target value at itr {} is {}\".format(t,eval_f(X,y,alpha)))\n",
    "        \n",
    "    return eval_f(X,y,alpha),alpha\n",
    "        "
   ]
  },
  {
   "cell_type": "code",
   "execution_count": 295,
   "metadata": {},
   "outputs": [
    {
     "name": "stdout",
     "output_type": "stream",
     "text": [
      "The target value at itr 0 is 0.0\n",
      "The target value at itr 1 is 1.72849254257\n",
      "The target value at itr 2 is 1.72849254257\n"
     ]
    }
   ],
   "source": [
    "f,alpha=coord_ascent(X,y,10./X.shape[0])"
   ]
  },
  {
   "cell_type": "code",
   "execution_count": 296,
   "metadata": {},
   "outputs": [
    {
     "data": {
      "text/plain": [
       "array([ 0.00244141,  0.00244141,  0.00244141, ...,  0.00244141,\n",
       "        0.00244141,  0.00244141])"
      ]
     },
     "execution_count": 296,
     "metadata": {},
     "output_type": "execute_result"
    }
   ],
   "source": [
    "alpha"
   ]
  },
  {
   "cell_type": "code",
   "execution_count": 297,
   "metadata": {},
   "outputs": [
    {
     "data": {
      "text/plain": [
       "1.7284925425653697"
      ]
     },
     "execution_count": 297,
     "metadata": {},
     "output_type": "execute_result"
    }
   ],
   "source": [
    "f"
   ]
  },
  {
   "cell_type": "code",
   "execution_count": 314,
   "metadata": {},
   "outputs": [
    {
     "data": {
      "text/plain": [
       "array([-0.17401878,  2.87045396, -0.04146065])"
      ]
     },
     "execution_count": 314,
     "metadata": {},
     "output_type": "execute_result"
    }
   ],
   "source": [
    "w = np.sum(X*(y*alpha)[:,np.newaxis],axis=0)\n",
    "w"
   ]
  },
  {
   "cell_type": "code",
   "execution_count": null,
   "metadata": {
    "collapsed": true
   },
   "outputs": [],
   "source": []
  }
 ],
 "metadata": {
  "kernelspec": {
   "display_name": "Python 3",
   "language": "python",
   "name": "python3"
  },
  "language_info": {
   "codemirror_mode": {
    "name": "ipython",
    "version": 3
   },
   "file_extension": ".py",
   "mimetype": "text/x-python",
   "name": "python",
   "nbconvert_exporter": "python",
   "pygments_lexer": "ipython3",
   "version": "3.6.3"
  }
 },
 "nbformat": 4,
 "nbformat_minor": 2
}
